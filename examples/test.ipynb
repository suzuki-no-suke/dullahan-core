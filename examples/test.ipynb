{
 "cells": [
  {
   "cell_type": "code",
   "execution_count": 1,
   "metadata": {},
   "outputs": [
    {
     "name": "stdout",
     "output_type": "stream",
     "text": [
      "guidance - このBOTはシンプルにあなたの言葉を反復します。\n",
      "            あなたの声をこだまします。\n",
      "system - \n"
     ]
    }
   ],
   "source": [
    "import sys\n",
    "sys.path.append(\"..\")\n",
    "\n",
    "from asset.helper import *\n",
    "\n",
    "sys_config_path = \"./asset/system_config.xml\"\n",
    "ctrl, sys_prov, prov = prepare(sys_config_path)\n",
    "\n",
    "chat_id = ctrl.create_chat(\"EchoBot_ContinualCall\")\n",
    "ctrl.opening(chat_id)\n",
    "print_log(prov.logs.get_log(chat_id))"
   ]
  },
  {
   "cell_type": "code",
   "execution_count": 2,
   "metadata": {},
   "outputs": [
    {
     "name": "stdout",
     "output_type": "stream",
     "text": [
      "guidance - このBOTはシンプルにあなたの言葉を反復します。\n",
      "            あなたの声をこだまします。\n",
      "system - \n",
      "user - 最初は \n",
      "test yade\n",
      "\n",
      "assistant - 最初は \n",
      "test yade\n",
      "\n"
     ]
    }
   ],
   "source": [
    "user_input = \"\"\"\n",
    "test yade\n",
    "\"\"\"\n",
    "ctrl.chat(chat_id, user_input)\n",
    "print_log(prov.logs.get_log(chat_id))\n"
   ]
  },
  {
   "cell_type": "code",
   "execution_count": 4,
   "metadata": {},
   "outputs": [],
   "source": [
    "ctrl.close()\n",
    "write_to_md(\"./datakeep/md/25xxxx-title.md\", prov.logs.get_log(chat_id))\n"
   ]
  }
 ],
 "metadata": {
  "kernelspec": {
   "display_name": ".venv",
   "language": "python",
   "name": "python3"
  },
  "language_info": {
   "codemirror_mode": {
    "name": "ipython",
    "version": 3
   },
   "file_extension": ".py",
   "mimetype": "text/x-python",
   "name": "python",
   "nbconvert_exporter": "python",
   "pygments_lexer": "ipython3",
   "version": "3.11.3"
  }
 },
 "nbformat": 4,
 "nbformat_minor": 2
}
